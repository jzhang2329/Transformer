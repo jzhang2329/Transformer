{
  "nbformat": 4,
  "nbformat_minor": 0,
  "metadata": {
    "colab": {
      "provenance": []
    },
    "kernelspec": {
      "name": "python3",
      "display_name": "Python 3"
    },
    "language_info": {
      "name": "python"
    }
  },
  "cells": [
    {
      "cell_type": "code",
      "execution_count": null,
      "metadata": {
        "id": "HRwtgSQ7TuDI"
      },
      "outputs": [],
      "source": [
        "import torch\n",
        "import numpy as np\n",
        "import torch.nn as nn\n",
        "import torch.utils.data as Data\n",
        "\n",
        "device = torch.device('cuda' if torch.cuda.is_available() else 'cpu')"
      ]
    },
    {
      "cell_type": "code",
      "source": [
        "# alphabet\n",
        "letter = [c for c in 'SE?abcdefghijklmnopqrstuvwxyz']\n",
        "letter2idx = {n: i for i, n in enumerate(letter)}\n",
        "\n",
        "\n",
        "seq_data = [['man', 'women'], ['black', 'white'], ['king', 'queen'], ['girl', 'boy'], ['up', 'down'], ['high', 'low']]\n",
        "\n",
        "\n",
        "n_step = max([max(len(i), len(j)) for i, j in seq_data])\n",
        "n_hidden = 128\n",
        "n_class = len(letter2idx)\n",
        "batch_size = 3"
      ],
      "metadata": {
        "id": "WAEbmW0CYVgQ"
      },
      "execution_count": null,
      "outputs": []
    },
    {
      "cell_type": "code",
      "source": [
        "def make_data(seq_data):\n",
        "    enc_input_all, dec_input_all, dec_output_all = [], [], []\n",
        "\n",
        "    for seq in seq_data:\n",
        "        for i in range(2):\n",
        "            seq[i] = seq[i] + '?' * (n_step - len(seq[i]))\n",
        "\n",
        "        enc_input = [letter2idx[n] for n in (seq[0] + 'E')]\n",
        "        dec_input = [letter2idx[n] for n in ('S' + seq[1])]\n",
        "        dec_output = [letter2idx[n] for n in (seq[1] + 'E')]\n",
        "\n",
        "        enc_input_all.append(np.eye(n_class)[enc_input])\n",
        "        dec_input_all.append(np.eye(n_class)[dec_input])\n",
        "        dec_output_all.append(dec_output)\n",
        "\n",
        "    return torch.Tensor(enc_input_all), torch.Tensor(dec_input_all), torch.LongTensor(dec_output_all)\n",
        "\n",
        "enc_input_all, dec_input_all, dec_output_all = make_data(seq_data)"
      ],
      "metadata": {
        "id": "7m0eUMp0crZD"
      },
      "execution_count": null,
      "outputs": []
    },
    {
      "cell_type": "code",
      "source": [
        "class TranslateDataSet(Data.Dataset):\n",
        "    def __init__(self, enc_input_all, dec_input_all, dec_output_all):\n",
        "        self.enc_input_all = enc_input_all\n",
        "        self.dec_input_all = dec_input_all\n",
        "        self.dec_output_all = dec_output_all\n",
        "\n",
        "    def __len__(self):\n",
        "        return len(self.enc_input_all)\n",
        "\n",
        "    def __getitem__(self, idx):\n",
        "        return self.enc_input_all[idx], self.dec_input_all[idx], self.dec_output_all[idx]\n",
        "\n",
        "loader = Data.DataLoader(TranslateDataSet(enc_input_all, dec_input_all, dec_output_all), batch_size, True)\n",
        ""
      ],
      "metadata": {
        "id": "yxy4HL6Kcz1F"
      },
      "execution_count": null,
      "outputs": []
    },
    {
      "cell_type": "code",
      "source": [
        "# Model\n",
        "class Seq2Seq(nn.Module):\n",
        "    def __init__(self):\n",
        "        super(Seq2Seq, self).__init__()\n",
        "        self.encoder = nn.RNN(input_size=n_class, hidden_size=n_hidden, dropout=0.5)\n",
        "        self.decoder = nn.RNN(input_size=n_class, hidden_size=n_hidden, dropout=0.5)\n",
        "        self.fc = nn.Linear(n_hidden, n_class)\n",
        "\n",
        "    def forward(self, enc_input, enc_hidden, dec_input):\n",
        "        enc_input = enc_input.transpose(0, 1)\n",
        "        dec_input = dec_input.transpose(0, 1)\n",
        "\n",
        "\n",
        "        _, h_t = self.encoder(enc_input, enc_hidden)\n",
        "\n",
        "        outputs, _ = self.decoder(dec_input, h_t)\n",
        "\n",
        "        model = self.fc(outputs)\n",
        "        return model\n",
        "\n",
        "model = Seq2Seq().to(device)\n",
        "criterion = nn.CrossEntropyLoss().to(device)\n",
        "optimizer = torch.optim.Adam(model.parameters(), lr=0.001)"
      ],
      "metadata": {
        "id": "TksOfbGfc3kl"
      },
      "execution_count": null,
      "outputs": []
    },
    {
      "cell_type": "code",
      "source": [
        "for epoch in range(5000):\n",
        "  for enc_input_batch, dec_input_batch, dec_output_batch in loader:\n",
        "\n",
        "      h_0 = torch.zeros(1, batch_size, n_hidden).to(device)\n",
        "\n",
        "      (enc_input_batch, dec_intput_batch, dec_output_batch) = (enc_input_batch.to(device), dec_input_batch.to(device), dec_output_batch.to(device))\n",
        "\n",
        "      pred = model(enc_input_batch, h_0, dec_intput_batch)\n",
        "\n",
        "      pred = pred.transpose(0, 1)\n",
        "      loss = 0\n",
        "      for i in range(len(dec_output_batch)):\n",
        "          loss += criterion(pred[i], dec_output_batch[i])\n",
        "      if (epoch + 1) % 1000 == 0:\n",
        "          print('Epoch:', '%04d' % (epoch + 1), 'cost =', '{:.6f}'.format(loss))\n",
        "\n",
        "      optimizer.zero_grad()\n",
        "      loss.backward()\n",
        "      optimizer.step()"
      ],
      "metadata": {
        "id": "u3drXQ2sdOSd"
      },
      "execution_count": null,
      "outputs": []
    },
    {
      "cell_type": "code",
      "source": [
        "\n",
        "# Test\n",
        "def translate(word):\n",
        "    enc_input, dec_input, _ = make_data([[word, '?' * n_step]])\n",
        "    enc_input, dec_input = enc_input.to(device), dec_input.to(device)\n",
        "\n",
        "    hidden = torch.zeros(1, 1, n_hidden).to(device)\n",
        "    output = model(enc_input, hidden, dec_input)\n",
        "\n",
        "    predict = output.data.max(2, keepdim=True)[1]\n",
        "    decoded = [letter[i] for i in predict]\n",
        "    translated = ''.join(decoded[:decoded.index('E')])\n",
        "\n",
        "    return translated.replace('?', '')\n",
        "\n",
        "print('test')\n",
        "print('man ->', translate('man'))\n",
        "print('mans ->', translate('mans'))\n",
        "print('king ->', translate('king'))\n",
        "print('black ->', translate('black'))\n",
        "print('up ->', translate('up'))"
      ],
      "metadata": {
        "id": "POthbToEdQx4"
      },
      "execution_count": null,
      "outputs": []
    }
  ]
}